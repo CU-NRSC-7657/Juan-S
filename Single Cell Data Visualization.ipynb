{
 "cells": [
  {
   "cell_type": "code",
   "execution_count": 2,
   "metadata": {},
   "outputs": [],
   "source": [
    "import matplotlib.pyplot as plt\n",
    "from ipywidgets import widgets, interactive\n",
    "import numpy as np\n",
    "import pandas as pd"
   ]
  },
  {
   "cell_type": "code",
   "execution_count": 3,
   "metadata": {},
   "outputs": [
    {
     "data": {
      "application/vnd.jupyter.widget-view+json": {
       "model_id": "9774a277096d4e148b746dc2ccba2cec",
       "version_major": 2,
       "version_minor": 0
      },
      "text/plain": [
       "interactive(children=(BoundedFloatText(value=-0.01, description='Tau:', max=0.28, min=-0.01, step=0.03), Outpu…"
      ]
     },
     "metadata": {},
     "output_type": "display_data"
    },
    {
     "data": {
      "image/png": "[encoded data removed]",
      "text/plain": [
       "<Figure size 432x288 with 6 Axes>"
      ]
     },
     "metadata": {
      "needs_background": "light"
     },
     "output_type": "display_data"
    }
   ],
   "source": [
    "figures = ['Waveform','Spatial Receptive Field','Color Gratings PSTH','Orientation Gratings PSTH','UV Gratings PSTH']\n",
    "fig,axs = plt.subplots(3,2)\n",
    "mtx_tau = widgets.BoundedFloatText(value=-0.01,\n",
    "                                   min=-0.01,\n",
    "                                   max=0.28,\n",
    "                                   step=0.03,\n",
    "                                   description='Tau:',\n",
    "                                   disabled=False,\n",
    "                                  color='black')\n",
    "\n",
    "gratings_cond = widgets.BoundedFloatText(value=-0.01,\n",
    "                                   min=-0.01,\n",
    "                                   max=0.28,\n",
    "                                   step=0.03,\n",
    "                                   description='Tau:',\n",
    "                                   disabled=False,\n",
    "                                  color='black')\n",
    "interactive(axs,mtx_tau=mtx_tau)"
   ]
  },
  {
   "cell_type": "code",
   "execution_count": null,
   "metadata": {},
   "outputs": [],
   "source": []
  }
 ],
 "metadata": {
  "kernelspec": {
   "display_name": "Python 3",
   "language": "python",
   "name": "python3"
  },
  "language_info": {
   "codemirror_mode": {
    "name": "ipython",
    "version": 3
   },
   "file_extension": ".py",
   "mimetype": "text/x-python",
   "name": "python",
   "nbconvert_exporter": "python",
   "pygments_lexer": "ipython3",
   "version": "3.8.8"
  }
 },
 "nbformat": 4,
 "nbformat_minor": 4
}
