{
 "cells": [
  {
   "cell_type": "code",
   "execution_count": 1,
   "metadata": {},
   "outputs": [],
   "source": [
    "import os\n",
    "import pandas as pd\n",
    "from tqdm import tqdm\n",
    "import matplotlib.pyplot as plt\n",
    "import numpy as np\n",
    "import pickle as pkl"
   ]
  },
  {
   "cell_type": "code",
   "execution_count": 3,
   "metadata": {},
   "outputs": [],
   "source": [
    "with open(r\"C:\\Users\\juans\\github\\juan_analysis\\20201210\\intermediates\\unit_times_dataframe.pkl\", 'rb') as z:\n",
    "    units_df = pkl.load(z)\n",
    "       \n",
    "with open(r\"C:\\Users\\juans\\github\\juan_analysis\\20201210\\intermediates\\gratori_all_df.pkl\", 'rb') as z:\n",
    "    gratori_data = pkl.load(z)"
   ]
  },
  {
   "cell_type": "code",
   "execution_count": 4,
   "metadata": {
    "scrolled": false
   },
   "outputs": [
    {
     "data": {
      "text/html": [
       "<div>\n",
       "<style scoped>\n",
       "    .dataframe tbody tr th:only-of-type {\n",
       "        vertical-align: middle;\n",
       "    }\n",
       "\n",
       "    .dataframe tbody tr th {\n",
       "        vertical-align: top;\n",
       "    }\n",
       "\n",
       "    .dataframe thead th {\n",
       "        text-align: right;\n",
       "    }\n",
       "</style>\n",
       "<table border=\"1\" class=\"dataframe\">\n",
       "  <thead>\n",
       "    <tr style=\"text-align: right;\">\n",
       "      <th></th>\n",
       "      <th>frame_no</th>\n",
       "      <th>contrast</th>\n",
       "      <th>posY</th>\n",
       "      <th>TF</th>\n",
       "      <th>SF</th>\n",
       "      <th>phase</th>\n",
       "      <th>posX</th>\n",
       "      <th>ori</th>\n",
       "      <th>times</th>\n",
       "    </tr>\n",
       "  </thead>\n",
       "  <tbody>\n",
       "    <tr>\n",
       "      <th>0</th>\n",
       "      <td>7</td>\n",
       "      <td>1</td>\n",
       "      <td>0</td>\n",
       "      <td>2</td>\n",
       "      <td>0.08</td>\n",
       "      <td>0</td>\n",
       "      <td>0</td>\n",
       "      <td>240</td>\n",
       "      <td>770.30797</td>\n",
       "    </tr>\n",
       "    <tr>\n",
       "      <th>1</th>\n",
       "      <td>17</td>\n",
       "      <td>1</td>\n",
       "      <td>0</td>\n",
       "      <td>2</td>\n",
       "      <td>0.16</td>\n",
       "      <td>0</td>\n",
       "      <td>0</td>\n",
       "      <td>210</td>\n",
       "      <td>773.30777</td>\n",
       "    </tr>\n",
       "    <tr>\n",
       "      <th>2</th>\n",
       "      <td>0</td>\n",
       "      <td>1</td>\n",
       "      <td>0</td>\n",
       "      <td>2</td>\n",
       "      <td>0.08</td>\n",
       "      <td>0</td>\n",
       "      <td>0</td>\n",
       "      <td>0</td>\n",
       "      <td>776.30574</td>\n",
       "    </tr>\n",
       "    <tr>\n",
       "      <th>3</th>\n",
       "      <td>14</td>\n",
       "      <td>1</td>\n",
       "      <td>0</td>\n",
       "      <td>2</td>\n",
       "      <td>0.16</td>\n",
       "      <td>0</td>\n",
       "      <td>0</td>\n",
       "      <td>90</td>\n",
       "      <td>779.30740</td>\n",
       "    </tr>\n",
       "    <tr>\n",
       "      <th>4</th>\n",
       "      <td>16</td>\n",
       "      <td>1</td>\n",
       "      <td>0</td>\n",
       "      <td>2</td>\n",
       "      <td>0.16</td>\n",
       "      <td>0</td>\n",
       "      <td>0</td>\n",
       "      <td>180</td>\n",
       "      <td>782.30727</td>\n",
       "    </tr>\n",
       "  </tbody>\n",
       "</table>\n",
       "</div>"
      ],
      "text/plain": [
       "   frame_no  contrast  posY  TF    SF  phase  posX  ori      times\n",
       "0         7         1     0   2  0.08      0     0  240  770.30797\n",
       "1        17         1     0   2  0.16      0     0  210  773.30777\n",
       "2         0         1     0   2  0.08      0     0    0  776.30574\n",
       "3        14         1     0   2  0.16      0     0   90  779.30740\n",
       "4        16         1     0   2  0.16      0     0  180  782.30727"
      ]
     },
     "execution_count": 4,
     "metadata": {},
     "output_type": "execute_result"
    }
   ],
   "source": [
    "gratori_data.head()"
   ]
  },
  {
   "cell_type": "code",
   "execution_count": 5,
   "metadata": {},
   "outputs": [],
   "source": [
    "imec0_units = units_df.loc[units_df['probe']=='imec0']\n",
    "imec0_units.reset_index(inplace = True, drop = True)\n",
    "\n",
    "imec1_units = units_df.loc[units_df['probe']=='imec1']\n",
    "imec1_units.reset_index(inplace = True, drop = True)"
   ]
  },
  {
   "cell_type": "code",
   "execution_count": 82,
   "metadata": {},
   "outputs": [],
   "source": [
    "def psth_line(times,triggers,pre=0.5,timeDomain=True,post=1,binsize=0.05,ymax=75,yoffset=0,output='fig',name='',color='#00cc00',linewidth=0.5,axes=None,labels=True,sparse=False,labelsize=18,axis_labelsize=20,error='shaded',alpha=0.5,**kwargs):\n",
    "    post = post + 1\n",
    "    peris=[]#np.zeros(len(triggers),len(times))\n",
    "    p=[]\n",
    "    if timeDomain:\n",
    "        samplingRate = 1.0\n",
    "    else:\n",
    "        samplingRate = samplingRate\n",
    "        \n",
    "    times = np.array(times).astype(float) / samplingRate\n",
    "    triggers = np.array(triggers).astype(float) / samplingRate\n",
    "\n",
    "    numbins = int((post+pre) / binsize) \n",
    "    bytrial = np.zeros((len(triggers),numbins))\n",
    "    for i,t in enumerate(triggers):\n",
    "        \n",
    "        if len(np.where(times >= t - pre)[0]) > 0 and len(np.where(times >= t + post)[0]) > 0:\n",
    "            start = np.where(times >= t - pre)[0][0]\n",
    "            end = np.where(times >= t + post)[0][0]\n",
    "            for trial_spike in times[start:end-1]:\n",
    "                if float(trial_spike-t)/float(binsize) < float(numbins):\n",
    "                    bytrial[i][int((trial_spike-t)/binsize-1)] +=1   \n",
    "        else:\n",
    "        \t pass\n",
    "             #bytrial[i][:]=0\n",
    "        #print 'start: ' + str(start)+'   end: ' + str(end)\n",
    "\n",
    "    variance = np.std(bytrial,axis=0)/binsize/np.sqrt((len(triggers)))\n",
    "    hist = np.mean(bytrial,axis=0)/binsize\n",
    "    edges = np.linspace(-pre+binsize,post+binsize,numbins)\n",
    "    return variance,hist,edges"
   ]
  },
  {
   "cell_type": "code",
   "execution_count": 83,
   "metadata": {
    "scrolled": true
   },
   "outputs": [
    {
     "data": {
      "image/png": "[encoded data removed]",
      "text/plain": [
       "<Figure size 432x288 with 1 Axes>"
      ]
     },
     "metadata": {
      "needs_background": "light"
     },
     "output_type": "display_data"
    }
   ],
   "source": [
    "data1 = imec0_units\n",
    "data = pd.DataFrame(data1.reset_index(drop = True))\n",
    "stim_data = gratori_data\n",
    "condition = 'ori'\n",
    "color_range=len(np.unique(stim_data[condition]))\n",
    "unit = 41\n",
    "times = np.array(data.times[unit])\n",
    "colors = plt.cm.viridis(np.linspace(0,1,color_range))\n",
    "    \n",
    "for i,j in enumerate(np.unique(stim_data[condition])):\n",
    "    triggers = np.array(stim_data['times'][stim_data[condition] == j])\n",
    "    variance,hist,edges = psth_line(times,triggers, post =3.5)\n",
    "    #fig,axes = plt.subplots(1,1)\n",
    "    plt.locator_params(axis='y',nbins=4)\n",
    "    upper = hist+variance\n",
    "    lower = hist-variance\n",
    "    plt.fill_between(edges[2:-1],upper[2:-1]+yoffset,hist[2:-1]+yoffset,alpha=alpha,color=colors[i],facecolor=colors[i])\n",
    "    plt.fill_between(edges[2:-1],hist[2:-1]+yoffset,lower[2:-1]+yoffset,alpha=alpha,color=colors[i],facecolor=colors[i])\n",
    "    plt.plot(edges[2:-1],hist[2:-1]+yoffset,color=colors[i],linewidth=linewidth)\n",
    "    plt.xlim(-pre,post-1)\n",
    "    plt.ylim(0,ymax);"
   ]
  },
  {
   "cell_type": "code",
   "execution_count": 89,
   "metadata": {
    "scrolled": true
   },
   "outputs": [
    {
     "data": {
      "text/plain": [
       "array([ 776.30574,  854.30289,  857.30294,  863.30278,  869.30255,\n",
       "        875.29981,  920.29879,  941.29829,  989.29592, 1076.29112,\n",
       "       1079.29093, 1085.2911 , 1145.28707, 1253.28008, 1292.27924,\n",
       "       1298.27891, 1301.27887, 1346.27623, 1376.27455, 1388.27379])"
      ]
     },
     "execution_count": 89,
     "metadata": {},
     "output_type": "execute_result"
    }
   ],
   "source": [
    "np.array(stim_data.times[stim_data.ori==0])"
   ]
  },
  {
   "cell_type": "code",
   "execution_count": null,
   "metadata": {},
   "outputs": [],
   "source": [
    "a = np.array([])"
   ]
  },
  {
   "cell_type": "code",
   "execution_count": 106,
   "metadata": {},
   "outputs": [
    {
     "ename": "IndexError",
     "evalue": "index 0 is out of bounds for axis 0 with size 0",
     "output_type": "error",
     "traceback": [
      "\u001b[1;31m---------------------------------------------------------------------------\u001b[0m",
      "\u001b[1;31mIndexError\u001b[0m                                Traceback (most recent call last)",
      "\u001b[1;32m<ipython-input-106-4ff3ead39cdc>\u001b[0m in \u001b[0;36m<module>\u001b[1;34m\u001b[0m\n\u001b[0;32m     13\u001b[0m         \u001b[1;32mfor\u001b[0m \u001b[0mj\u001b[0m \u001b[1;32min\u001b[0m \u001b[0mbins\u001b[0m\u001b[1;33m:\u001b[0m\u001b[1;33m\u001b[0m\u001b[1;33m\u001b[0m\u001b[0m\n\u001b[0;32m     14\u001b[0m             \u001b[0mstart2\u001b[0m \u001b[1;33m=\u001b[0m \u001b[0mnp\u001b[0m\u001b[1;33m.\u001b[0m\u001b[0mwhere\u001b[0m\u001b[1;33m(\u001b[0m\u001b[0mtimes\u001b[0m \u001b[1;33m>=\u001b[0m \u001b[0mj\u001b[0m\u001b[1;33m-\u001b[0m\u001b[0mstart\u001b[0m\u001b[1;33m)\u001b[0m\u001b[1;33m[\u001b[0m\u001b[1;36m0\u001b[0m\u001b[1;33m]\u001b[0m\u001b[1;33m[\u001b[0m\u001b[1;36m0\u001b[0m\u001b[1;33m]\u001b[0m\u001b[1;33m\u001b[0m\u001b[1;33m\u001b[0m\u001b[0m\n\u001b[1;32m---> 15\u001b[1;33m             \u001b[0mend2\u001b[0m \u001b[1;33m=\u001b[0m \u001b[0mnp\u001b[0m\u001b[1;33m.\u001b[0m\u001b[0mwhere\u001b[0m\u001b[1;33m(\u001b[0m\u001b[0mtimes\u001b[0m \u001b[1;33m>=\u001b[0m \u001b[0mj\u001b[0m\u001b[1;33m+\u001b[0m\u001b[0mend\u001b[0m\u001b[1;33m)\u001b[0m\u001b[1;33m[\u001b[0m\u001b[1;36m0\u001b[0m\u001b[1;33m]\u001b[0m\u001b[1;33m[\u001b[0m\u001b[1;36m0\u001b[0m\u001b[1;33m]\u001b[0m\u001b[1;33m\u001b[0m\u001b[1;33m\u001b[0m\u001b[0m\n\u001b[0m\u001b[0;32m     16\u001b[0m             \u001b[0mprint\u001b[0m\u001b[1;33m(\u001b[0m\u001b[0mtimes\u001b[0m\u001b[1;33m[\u001b[0m\u001b[0mstart2\u001b[0m\u001b[1;33m:\u001b[0m\u001b[0mend2\u001b[0m\u001b[1;33m]\u001b[0m\u001b[1;33m)\u001b[0m\u001b[1;33m\u001b[0m\u001b[1;33m\u001b[0m\u001b[0m\n\u001b[0;32m     17\u001b[0m \u001b[1;33m\u001b[0m\u001b[0m\n",
      "\u001b[1;31mIndexError\u001b[0m: index 0 is out of bounds for axis 0 with size 0"
     ]
    }
   ],
   "source": [
    "triggers = np.array(stim_data.times[stim_data.ori==0]).astype(float)\n",
    "times = np.array(data.times[42])\n",
    "pre=0.5;post=2.5;binsize=0.05\n",
    "\n",
    "numbins=int((pre+post)/binsize)\n",
    "bytrial = np.zeros((len(triggers),numbins))\n",
    "avg=[]\n",
    "for i, t in enumerate(triggers[0:1]):\n",
    "    if len(np.where(times >= t-pre)[0]) > 0 and len(np.where(times >= t + post)[0]) > 0:\n",
    "        start = np.where(times >= t - pre)[0][0]\n",
    "        end = np.where(times >= t + post)[0][0]\n",
    "        for trial_spike in times[start:end]:\n",
    "            if float(trial_spike-t)/float(binsize) < float(numbins): \n",
    "                bytrial[i][int((trial_spike-t)/binsize)] +=1\n",
    "            else:\n",
    "                pass\n",
    "    #variance = np.std(bytrial,axis=0)/binsize/np.sqrt((len(triggers)))\n",
    "    #hist = np.mean(bytrial,axis=0)/binsize\n",
    "    #edges = np.linspace(-pre+binsize,post+binsize,numbins)\n",
    "    \n",
    "#print(bytrial)"
   ]
  },
  {
   "cell_type": "code",
   "execution_count": 93,
   "metadata": {},
   "outputs": [
    {
     "data": {
      "text/plain": [
       "[<matplotlib.lines.Line2D at 0x2b275b89dc8>]"
      ]
     },
     "execution_count": 93,
     "metadata": {},
     "output_type": "execute_result"
    },
    {
     "data": {
      "image/png": "[encoded data removed]",
      "text/plain": [
       "<Figure size 432x288 with 1 Axes>"
      ]
     },
     "metadata": {
      "needs_background": "light"
     },
     "output_type": "display_data"
    }
   ],
   "source": [
    "plt.plot(hist)"
   ]
  },
  {
   "cell_type": "code",
   "execution_count": null,
   "metadata": {},
   "outputs": [],
   "source": [
    "        if len(np.where(times >= t - pre)[0]) > 0 and len(np.where(times >= t + post)[0]) > 0:\n",
    "            start = np.where(times >= t - pre)[0][0]\n",
    "            end = np.where(times >= t + post)[0][0]\n",
    "            for trial_spike in times[start:end-1]:\n",
    "                if float(trial_spike-t)/float(binsize) < float(numbins):\n",
    "                    bytrial[i][int((trial_spike-t)/binsize-1)] +=1 "
   ]
  },
  {
   "cell_type": "code",
   "execution_count": null,
   "metadata": {},
   "outputs": [],
   "source": [
    "def stacked_psth(unit,condition,threshold=True,times,triggers,pre=0.5,post=1,\n",
    "                 binsize=0.05,ymax=75,yoffset=0,output='fig',name='',color='#00cc00',\n",
    "                 linewidth=0.5,axes=None,\n",
    "                 labels=True,sparse=False,labelsize=18,axis_labelsize=20,error='shaded',\n",
    "                 alpha=0.5,**kwargs):\n",
    "\n",
    "    for i,j in enumerate(np.unique(stim_data[condition])):\n",
    "    triggers = np.array(stim_data['times'][stim_data[condition] == j])\n",
    "    post = post + 1\n",
    "    peris=[]#np.zeros(len(triggers),len(times))\n",
    "    p=[]\n",
    "        \n",
    "    times = np.array(times).astype(float)\n",
    "    triggers = np.array(triggers).astype(float)\n",
    "\n",
    "    numbins = int((post+pre) / binsize) \n",
    "    bytrial = np.zeros((len(triggers),numbins))\n",
    "    for i,t in enumerate(triggers):\n",
    "        \n",
    "        if len(np.where(times >= t - pre)[0]) > 0 and len(np.where(times >= t + post)[0]) > 0:\n",
    "            start = np.where(times >= t - pre)[0][0]\n",
    "            end = np.where(times >= t + post)[0][0]\n",
    "            for trial_spike in times[start:end-1]:\n",
    "                if float(trial_spike-t)/float(binsize) < float(numbins):\n",
    "                    bytrial[i][int((trial_spike-t)/binsize-1)] +=1   \n",
    "        else:\n",
    "        \t pass\n",
    "    variance = np.std(bytrial,axis=0)/binsize/np.sqrt((len(triggers)))\n",
    "    hist = np.mean(bytrial,axis=0)/binsize\n",
    "    edges = np.linspace(-pre+binsize,post+binsize,numbins)\n",
    "    \n",
    "        if threshold==True:\n",
    "            pre_idx = np.where(edges<0)\n",
    "            post_idx = np.logical_and(edges>0,edges<1.0)\n",
    "            pre_bins = edges[pre_idx]\n",
    "            post_bins = edges[post_idx]\n",
    "            no_pre = len(pre_bins)\n",
    "            no_post = len(post_bins)\n",
    "            baseline_hist = hist[:no_pre]\n",
    "            evoked_hist = hist[no_pre:no_post]\n",
    "            baseline_mean = np.mean(baseline_hist)\n",
    "            baseline_std = np.std(baseline_hist)\n",
    "            thresh_cross.append(evoked_hist.any()>(baseline_mean+(baseline_std*3)))\n",
    "        thresh_cross_unit.append(thresh_cross)\n",
    "                              \n",
    "    if output == 'fig':\n",
    "        if error == 'shaded':\n",
    "            if 'shade_color' in kwargs.keys():\n",
    "                shade_color=kwargs['shade_color']\n",
    "            else:\n",
    "                shade_color=color    \n",
    "            if axes == None:\n",
    "                fig,axes=plt.subplots(1,1)\n",
    "                #plt.figure()\n",
    "                #axes=plt.gca()\n",
    "            plt.locator_params(axis='y',nbins=4)\n",
    "            upper = hist+variance\n",
    "            lower = hist-variance\n",
    "            axes.fill_between(edges[2:-1],upper[2:-1]+yoffset,hist[2:-1]+yoffset,alpha=alpha,color=shade_color,facecolor=shade_color)\n",
    "            axes.fill_between(edges[2:-1],hist[2:-1]+yoffset,lower[2:-1]+yoffset,alpha=alpha,color=shade_color,facecolor=shade_color)\n",
    "            axes.plot(edges[2:-1],hist[2:-1]+yoffset,color=color,linewidth=linewidth)\n",
    "            axes.set_xlim(-pre,post-1)\n",
    "            axes.set_ylim(0,ymax);\n",
    "            if sparse:\n",
    "                axes.set_xticklabels([])\n",
    "                axes.set_yticklabels([])\n",
    "            else:\n",
    "                if labels:\n",
    "                    axes.set_xlabel(r'$time \\/ [s]$',fontsize=axis_labelsize)\n",
    "                    axes.set_ylabel(r'$firing \\/ rate \\/ [Hz]$',fontsize=axis_labelsize)\n",
    "                    axes.tick_params(axis='both',labelsize=labelsize)\n",
    "            axes.spines['top'].set_visible(False);axes.yaxis.set_ticks_position('left')\n",
    "            axes.spines['right'].set_visible(False);axes.xaxis.set_ticks_position('bottom')   \n",
    "            axes.set_title(name,y=0.5)\n",
    "            return axes \n",
    "        else:\n",
    "            if axes == None:\n",
    "                fig,axes=plt.subplots(1,1)\n",
    "                #plt.figure()\n",
    "                #axes=plt.gca()\n",
    "            f=axes.errorbar(edges,hist,yerr=variance,color=color)\n",
    "            axes.set_xlim(-pre,post - 1)\n",
    "            axes.set_ylim(0,ymax)\n",
    "            if sparse:\n",
    "                axes.set_xticklabels([])\n",
    "                axes.set_yticklabels([])\n",
    "            else:\n",
    "                if labels:\n",
    "                    axes.set_xlabel(r'$time \\/ [s]$',fontsize=axis_labelsize)\n",
    "                    axes.set_ylabel(r'$firing \\/ rate \\/ [Hz]$',fontsize=axis_labelsize)\n",
    "                    axes.tick_params(axis='both',labelsize=labelsize)\n",
    "            axes.spines['top'].set_visible(False);axes.yaxis.set_ticks_position('left')\n",
    "            axes.spines['right'].set_visible(False);axes.xaxis.set_ticks_position('bottom')   \n",
    "            axes.set_title(name)\n",
    "            return axes\n",
    "    if output == 'hist':\n",
    "        return (hist[:-1*int(1./binsize)],edges[:-1*int(1./binsize)])    \n",
    "    if output == 'p':\n",
    "        return (edges,hist,variance)"
   ]
  },
  {
   "cell_type": "code",
   "execution_count": 59,
   "metadata": {},
   "outputs": [
    {
     "data": {
      "image/png": "[encoded data removed]",
      "text/plain": [
       "<Figure size 432x288 with 1 Axes>"
      ]
     },
     "metadata": {
      "needs_background": "light"
     },
     "output_type": "display_data"
    }
   ],
   "source": [
    "pre=0.5;post=3.5;ymax=75;yoffset=0;output='fig';name='';color='#00cc00';linewidth=0.5;axes=None;labels=True;\n",
    "sparse=False;labelsize=18;axis_labelsize=20;error='shaded';alpha=0.5;shade_color=color\n",
    "\n",
    "fig,axes = plt.subplots(1,1)\n",
    "plt.locator_params(axis='y',nbins=4)\n",
    "upper = hist+variance\n",
    "lower = hist-variance\n",
    "axes.fill_between(edges[2:-1],upper[2:-1]+yoffset,hist[2:-1]+yoffset,alpha=alpha,color=shade_color,facecolor=shade_color)\n",
    "axes.fill_between(edges[2:-1],hist[2:-1]+yoffset,lower[2:-1]+yoffset,alpha=alpha,color=shade_color,facecolor=shade_color)\n",
    "axes.plot(edges[2:-1],hist[2:-1]+yoffset,color=color,linewidth=linewidth)\n",
    "axes.set_xlim(-pre,post-1)\n",
    "axes.set_ylim(0,ymax);"
   ]
  },
  {
   "cell_type": "code",
   "execution_count": 64,
   "metadata": {},
   "outputs": [],
   "source": [
    "def psth_line(times,triggers,pre=0.5,timeDomain=True,post=1,binsize=0.05,ymax=75,yoffset=0,output='fig',name='',color='#00cc00',linewidth=0.5,axes=None,labels=True,sparse=False,labelsize=18,axis_labelsize=20,error='shaded',alpha=0.5,**kwargs):\n",
    "    post = post + 1\n",
    "    peris=[]#np.zeros(len(triggers),len(times))\n",
    "    p=[]\n",
    "    if timeDomain:\n",
    "        samplingRate = 1.0\n",
    "    else:\n",
    "        samplingRate = samplingRate\n",
    "        \n",
    "    times = np.array(times).astype(float) / samplingRate + pre\n",
    "    triggers = np.array(triggers).astype(float) / samplingRate\n",
    "\n",
    "    numbins = int((post+pre) / binsize) \n",
    "    bytrial = np.zeros((len(triggers),numbins))\n",
    "    for i,t in enumerate(triggers):\n",
    "        \n",
    "        if len(np.where(times >= t - pre)[0]) > 0 and len(np.where(times >= t + post)[0]) > 0:\n",
    "            start = np.where(times >= t - pre)[0][0]\n",
    "            end = np.where(times >= t + post)[0][0]\n",
    "            for trial_spike in times[start:end-1]:\n",
    "                if float(trial_spike-t)/float(binsize) < float(numbins):\n",
    "                    bytrial[i][int((trial_spike-t)/binsize-1)] +=1   \n",
    "        else:\n",
    "        \t pass\n",
    "             #bytrial[i][:]=0\n",
    "        #print 'start: ' + str(start)+'   end: ' + str(end)\n",
    "\n",
    "    variance = np.std(bytrial,axis=0)/binsize/np.sqrt((len(triggers)))\n",
    "    hist = np.mean(bytrial,axis=0)/binsize\n",
    "    edges = np.linspace(-pre+binsize,post+binsize,numbins)\n",
    "\n",
    "    if output == 'fig':\n",
    "        if error == 'shaded':\n",
    "            if 'shade_color' in kwargs.keys():\n",
    "                shade_color=kwargs['shade_color']\n",
    "            else:\n",
    "                shade_color=color    \n",
    "            if axes == None:\n",
    "                fig,axes=plt.subplots(1,1)\n",
    "                #plt.figure()\n",
    "                #axes=plt.gca()\n",
    "            plt.locator_params(axis='y',nbins=4)\n",
    "            upper = hist+variance\n",
    "            lower = hist-variance\n",
    "            axes.fill_between(edges[2:-1],upper[2:-1]+yoffset,hist[2:-1]+yoffset,alpha=alpha,color=shade_color,facecolor=shade_color)\n",
    "            axes.fill_between(edges[2:-1],hist[2:-1]+yoffset,lower[2:-1]+yoffset,alpha=alpha,color=shade_color,facecolor=shade_color)\n",
    "            axes.plot(edges[2:-1],hist[2:-1]+yoffset,color=color,linewidth=linewidth)\n",
    "            axes.set_xlim(-pre,post-1)\n",
    "            axes.set_ylim(0,ymax);\n",
    "            if sparse:\n",
    "                axes.set_xticklabels([])\n",
    "                axes.set_yticklabels([])\n",
    "            else:\n",
    "                if labels:\n",
    "                    axes.set_xlabel(r'$time \\/ [s]$',fontsize=axis_labelsize)\n",
    "                    axes.set_ylabel(r'$firing \\/ rate \\/ [Hz]$',fontsize=axis_labelsize)\n",
    "                    axes.tick_params(axis='both',labelsize=labelsize)\n",
    "            axes.spines['top'].set_visible(False);axes.yaxis.set_ticks_position('left')\n",
    "            axes.spines['right'].set_visible(False);axes.xaxis.set_ticks_position('bottom')   \n",
    "            axes.set_title(name,y=0.5)\n",
    "            return axes \n",
    "        else:\n",
    "            if axes == None:\n",
    "                fig,axes=plt.subplots(1,1)\n",
    "                #plt.figure()\n",
    "                #axes=plt.gca()\n",
    "            f=axes.errorbar(edges,hist,yerr=variance,color=color)\n",
    "            axes.set_xlim(-pre,post - 1)\n",
    "            axes.set_ylim(0,ymax)\n",
    "            if sparse:\n",
    "                axes.set_xticklabels([])\n",
    "                axes.set_yticklabels([])\n",
    "            else:\n",
    "                if labels:\n",
    "                    axes.set_xlabel(r'$time \\/ [s]$',fontsize=axis_labelsize)\n",
    "                    axes.set_ylabel(r'$firing \\/ rate \\/ [Hz]$',fontsize=axis_labelsize)\n",
    "                    axes.tick_params(axis='both',labelsize=labelsize)\n",
    "            axes.spines['top'].set_visible(False);axes.yaxis.set_ticks_position('left')\n",
    "            axes.spines['right'].set_visible(False);axes.xaxis.set_ticks_position('bottom')   \n",
    "            axes.set_title(name)\n",
    "            return axes\n",
    "    if output == 'hist':\n",
    "        return (hist[:-1*int(1./binsize)],edges[:-1*int(1./binsize)])    \n",
    "    if output == 'p':\n",
    "        return (edges,hist,variance)"
   ]
  }
 ],
 "metadata": {
  "kernelspec": {
   "display_name": "Python 3",
   "language": "python",
   "name": "python3"
  },
  "language_info": {
   "codemirror_mode": {
    "name": "ipython",
    "version": 3
   },
   "file_extension": ".py",
   "mimetype": "text/x-python",
   "name": "python",
   "nbconvert_exporter": "python",
   "pygments_lexer": "ipython3",
   "version": "3.7.6"
  }
 },
 "nbformat": 4,
 "nbformat_minor": 4
}
