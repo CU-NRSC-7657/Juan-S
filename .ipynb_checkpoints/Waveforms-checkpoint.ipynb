{
 "cells": [
  {
   "cell_type": "code",
   "execution_count": 76,
   "metadata": {},
   "outputs": [],
   "source": [
    "import os,glob\n",
    "import numpy as np\n",
    "import pandas as pd\n",
    "import matplotlib.pyplot as plt\n",
    "from dlab import sorting_quality as sq"
   ]
  },
  {
   "cell_type": "code",
   "execution_count": 77,
   "metadata": {},
   "outputs": [],
   "source": [
    "path = r'C:\\Users\\juans\\Documents\\Denmanlab\\RAW DATA\\20210623_C57_ABC_g0_imec0'"
   ]
  },
  {
   "cell_type": "code",
   "execution_count": 78,
   "metadata": {},
   "outputs": [],
   "source": [
    "def readMeta(bin_path):\n",
    "    metaPath = glob.glob(bin_path+'*meta')\n",
    "    metaName = os.path.basename(metaPath[0])\n",
    "    metaDict = {}\n",
    "    if os.path.isfile(metaPath[0]):\n",
    "        # print(\"meta file present\")\n",
    "        with open(metaPath[0]) as f:\n",
    "            mdatList = f.read().splitlines()\n",
    "            # convert the list entries into key value pairs\n",
    "            for m in mdatList:\n",
    "                csList = m.split(sep='=')\n",
    "                if csList[0][0] == '~':\n",
    "                    currKey = csList[0][1:len(csList[0])]\n",
    "                else:\n",
    "                    currKey = csList[0]\n",
    "                metaDict.update({currKey: csList[1]})\n",
    "    else:\n",
    "        print(\"no meta file\")\n",
    "    return(metaDict)"
   ]
  },
  {
   "cell_type": "code",
   "execution_count": 79,
   "metadata": {},
   "outputs": [],
   "source": [
    "imec_meta = readMeta(path+'\\\\') #extract meta file\n",
    "sampRate = float(imec_meta['imSampRate']) #get sampling rate (Hz)\n",
    "cluster_groups = pd.read_csv(os.path.join(path, 'cluster_group.tsv'), '\\t')\n",
    "cluster_info = pd.read_csv(os.path.join(path, 'cluster_info.tsv'), '\\t')\n",
    "spike_times = np.ndarray.flatten(np.load(os.path.join(path, 'spike_times.npy')))\n",
    "spike_seconds = np.ndarray.flatten(spike_times/sampRate) #convert spike times to seconds from samples\n",
    "spike_clusters = np.ndarray.flatten(np.load(os.path.join(path, 'spike_clusters.npy')))"
   ]
  },
  {
   "cell_type": "code",
   "execution_count": 103,
   "metadata": {},
   "outputs": [],
   "source": [
    "unit_times = []\n",
    "#Generate Unit Times Table\n",
    "for index, unitID in enumerate(cluster_groups['cluster_id'].values):\n",
    "    if cluster_info.group[index] == 'good':\n",
    "        unit_times.append({'probe':'imec0',\n",
    "                           'unit_id': unitID,\n",
    "                           'depth':cluster_info.depth[index],\n",
    "                           'no_spikes': cluster_info.n_spikes[index],\n",
    "                           'amplitude':cluster_info.Amplitude[index],\n",
    "                           'times': spike_seconds[spike_clusters == unitID],\n",
    "                          })\n",
    "unit_times = pd.DataFrame(unit_times)"
   ]
  },
  {
   "cell_type": "code",
   "execution_count": 101,
   "metadata": {},
   "outputs": [
    {
     "data": {
      "text/plain": [
       "0      [0.11043277962337629, 0.15319923185905146, 0.2...\n",
       "1      [0.027866526943900568, 0.037033147649131015, 0...\n",
       "2      [0.02653320029586705, 0.07189963949520757, 0.3...\n",
       "3      [0.05119974328448717, 0.08299958384008663, 1.4...\n",
       "4      [0.06723299622709025, 0.08493290747973523, 0.3...\n",
       "                             ...                        \n",
       "226    [0.042266454742662586, 0.0823662536822707, 0.1...\n",
       "227    [113.71646315898705, 113.79329610707998, 113.8...\n",
       "228    [0.05479972523417767, 0.08363291399790254, 0.1...\n",
       "229    [120.15689753331576, 120.3452632555167, 121.04...\n",
       "230    [1649.913227335078, 1808.8362971614727, 1986.1...\n",
       "Name: times, Length: 231, dtype: object"
      ]
     },
     "execution_count": 101,
     "metadata": {},
     "output_type": "execute_result"
    }
   ],
   "source": [
    "unit_times.times"
   ]
  },
  {
   "cell_type": "code",
   "execution_count": 104,
   "metadata": {},
   "outputs": [
    {
     "name": "stderr",
     "output_type": "stream",
     "text": [
      "C:\\Users\\juans\\anaconda3\\lib\\site-packages\\pandas\\core\\ops\\array_ops.py:55: FutureWarning: elementwise comparison failed; returning scalar instead, but in the future will perform elementwise comparison\n",
      "  result = libops.scalar_compare(x.ravel(), y, op)\n"
     ]
    }
   ],
   "source": [
    "#Remove clusters with no associated spike times left over from Phy\n",
    "for i,j in enumerate(unit_times.times):\n",
    "    if len(unit_times.times[i])==0:\n",
    "        unit_times.times[i]='empty'\n",
    "unit_times = unit_times[unit_times.times!='empty']"
   ]
  },
  {
   "cell_type": "code",
   "execution_count": 105,
   "metadata": {},
   "outputs": [
    {
     "data": {
      "text/html": [
       "<div>\n",
       "<style scoped>\n",
       "    .dataframe tbody tr th:only-of-type {\n",
       "        vertical-align: middle;\n",
       "    }\n",
       "\n",
       "    .dataframe tbody tr th {\n",
       "        vertical-align: top;\n",
       "    }\n",
       "\n",
       "    .dataframe thead th {\n",
       "        text-align: right;\n",
       "    }\n",
       "</style>\n",
       "<table border=\"1\" class=\"dataframe\">\n",
       "  <thead>\n",
       "    <tr style=\"text-align: right;\">\n",
       "      <th></th>\n",
       "      <th>probe</th>\n",
       "      <th>unit_id</th>\n",
       "      <th>depth</th>\n",
       "      <th>no_spikes</th>\n",
       "      <th>amplitude</th>\n",
       "      <th>times</th>\n",
       "    </tr>\n",
       "  </thead>\n",
       "  <tbody>\n",
       "    <tr>\n",
       "      <th>0</th>\n",
       "      <td>imec0</td>\n",
       "      <td>0</td>\n",
       "      <td>20.0</td>\n",
       "      <td>37226</td>\n",
       "      <td>46.1</td>\n",
       "      <td>[0.11043277962337629, 0.15319923185905146, 0.2...</td>\n",
       "    </tr>\n",
       "    <tr>\n",
       "      <th>1</th>\n",
       "      <td>imec0</td>\n",
       "      <td>6</td>\n",
       "      <td>60.0</td>\n",
       "      <td>187840</td>\n",
       "      <td>47.0</td>\n",
       "      <td>[0.027866526943900568, 0.037033147649131015, 0...</td>\n",
       "    </tr>\n",
       "    <tr>\n",
       "      <th>2</th>\n",
       "      <td>imec0</td>\n",
       "      <td>7</td>\n",
       "      <td>80.0</td>\n",
       "      <td>27854</td>\n",
       "      <td>42.3</td>\n",
       "      <td>[0.02653320029586705, 0.07189963949520757, 0.3...</td>\n",
       "    </tr>\n",
       "    <tr>\n",
       "      <th>3</th>\n",
       "      <td>imec0</td>\n",
       "      <td>10</td>\n",
       "      <td>100.0</td>\n",
       "      <td>19593</td>\n",
       "      <td>28.9</td>\n",
       "      <td>[0.05119974328448717, 0.08299958384008663, 1.4...</td>\n",
       "    </tr>\n",
       "    <tr>\n",
       "      <th>4</th>\n",
       "      <td>imec0</td>\n",
       "      <td>11</td>\n",
       "      <td>120.0</td>\n",
       "      <td>77934</td>\n",
       "      <td>37.0</td>\n",
       "      <td>[0.06723299622709025, 0.08493290747973523, 0.3...</td>\n",
       "    </tr>\n",
       "  </tbody>\n",
       "</table>\n",
       "</div>"
      ],
      "text/plain": [
       "   probe  unit_id  depth  no_spikes  amplitude  \\\n",
       "0  imec0        0   20.0      37226       46.1   \n",
       "1  imec0        6   60.0     187840       47.0   \n",
       "2  imec0        7   80.0      27854       42.3   \n",
       "3  imec0       10  100.0      19593       28.9   \n",
       "4  imec0       11  120.0      77934       37.0   \n",
       "\n",
       "                                               times  \n",
       "0  [0.11043277962337629, 0.15319923185905146, 0.2...  \n",
       "1  [0.027866526943900568, 0.037033147649131015, 0...  \n",
       "2  [0.02653320029586705, 0.07189963949520757, 0.3...  \n",
       "3  [0.05119974328448717, 0.08299958384008663, 1.4...  \n",
       "4  [0.06723299622709025, 0.08493290747973523, 0.3...  "
      ]
     },
     "execution_count": 105,
     "metadata": {},
     "output_type": "execute_result"
    }
   ],
   "source": [
    "unit_times_df.head()"
   ]
  },
  {
   "cell_type": "code",
   "execution_count": 61,
   "metadata": {},
   "outputs": [],
   "source": [
    "data = os.path.join(path,'20210623_C57_ABC_g0_t0.imec0.ap.bin')\n",
    "mean_wf = sq.mean_waveform(rawdata=data,times=unit_times_df.times[0],channels=385,sampling_rate = float(sampRate))"
   ]
  },
  {
   "cell_type": "code",
   "execution_count": 97,
   "metadata": {},
   "outputs": [
    {
     "data": {
      "text/plain": [
       "<matplotlib.image.AxesImage at 0x17c27230d60>"
      ]
     },
     "execution_count": 97,
     "metadata": {},
     "output_type": "execute_result"
    },
    {
     "data": {
      "image/png": "[encoded data removed]",
      "text/plain": [
       "<Figure size 432x288 with 1 Axes>"
      ]
     },
     "metadata": {
      "needs_background": "light"
     },
     "output_type": "display_data"
    }
   ],
   "source": [
    "plt.(mean_wf)"
   ]
  },
  {
   "cell_type": "code",
   "execution_count": null,
   "metadata": {},
   "outputs": [],
   "source": []
  }
 ],
 "metadata": {
  "kernelspec": {
   "display_name": "Python 3",
   "language": "python",
   "name": "python3"
  },
  "language_info": {
   "codemirror_mode": {
    "name": "ipython",
    "version": 3
   },
   "file_extension": ".py",
   "mimetype": "text/x-python",
   "name": "python",
   "nbconvert_exporter": "python",
   "pygments_lexer": "ipython3",
   "version": "3.8.8"
  }
 },
 "nbformat": 4,
 "nbformat_minor": 4
}
